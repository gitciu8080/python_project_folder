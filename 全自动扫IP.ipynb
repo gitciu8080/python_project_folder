{
 "cells": [
  {
   "cell_type": "markdown",
   "id": "4a3a9619",
   "metadata": {},
   "source": [
    "# 全自动扫端口\n",
    "## 1. 获取IP（Nmap.format_ip_card_name('eth0')）\n",
    "- 输出：XXX.XXX.XXX.0/24 \n",
    "## 2. 使用格式化+扫描ip（xml_to_list_scan()）\n",
    "- 输出：[{'ip': 'XXX.XXX.XXX.XXX', 'port': 'XXX', 'service': 'XXX', 'port_state': 'open'},{'ip': 'XXX.XXX.XXX.XXX', 'port': 'XXX', 'service': 'XXX', 'port_state': 'open'}]\n"
   ]
  },
  {
   "cell_type": "code",
   "execution_count": 1,
   "id": "ba2a2edc",
   "metadata": {},
   "outputs": [
    {
     "name": "stdout",
     "output_type": "stream",
     "text": [
      "192.168.19.0/24\n",
      "Starting Nmap 7.95 ( https://nmap.org ) at 2025-07-14 22:44 EDT\n",
      "Nmap scan report for 192.168.19.1\n",
      "Host is up (0.00082s latency).\n",
      "Not shown: 995 filtered tcp ports (no-response)\n",
      "PORT      STATE SERVICE\n",
      "135/tcp   open  msrpc\n",
      "139/tcp   open  netbios-ssn\n",
      "445/tcp   open  microsoft-ds\n",
      "2179/tcp  open  vmrdp\n",
      "49153/tcp open  unknown\n",
      "MAC Address: 00:50:56:C0:00:08 (VMware)\n",
      "\n",
      "Nmap scan report for 192.168.19.2\n",
      "Host is up (0.000080s latency).\n",
      "Not shown: 999 closed tcp ports (reset)\n",
      "PORT   STATE    SERVICE\n",
      "53/tcp filtered domain\n",
      "MAC Address: 00:50:56:EA:FB:41 (VMware)\n",
      "\n",
      "Nmap scan report for 192.168.19.134\n",
      "Host is up (0.0024s latency).\n",
      "Not shown: 977 closed tcp ports (reset)\n",
      "PORT     STATE SERVICE\n",
      "21/tcp   open  ftp\n",
      "22/tcp   open  ssh\n",
      "23/tcp   open  telnet\n",
      "25/tcp   open  smtp\n",
      "53/tcp   open  domain\n",
      "80/tcp   open  http\n",
      "111/tcp  open  rpcbind\n",
      "139/tcp  open  netbios-ssn\n",
      "445/tcp  open  microsoft-ds\n",
      "512/tcp  open  exec\n",
      "513/tcp  open  login\n",
      "514/tcp  open  shell\n",
      "1099/tcp open  rmiregistry\n",
      "1524/tcp open  ingreslock\n",
      "2049/tcp open  nfs\n",
      "2121/tcp open  ccproxy-ftp\n",
      "3306/tcp open  mysql\n",
      "5432/tcp open  postgresql\n",
      "5900/tcp open  vnc\n",
      "6000/tcp open  X11\n",
      "6667/tcp open  irc\n",
      "8009/tcp open  ajp13\n",
      "8180/tcp open  unknown\n",
      "MAC Address: 00:0C:29:4B:01:59 (VMware)\n",
      "\n",
      "Nmap scan report for 192.168.19.254\n",
      "Host is up (0.00013s latency).\n",
      "All 1000 scanned ports on 192.168.19.254 are in ignored states.\n",
      "Not shown: 1000 filtered tcp ports (no-response)\n",
      "MAC Address: 00:50:56:E5:E7:CF (VMware)\n",
      "\n",
      "Nmap scan report for 192.168.19.133\n",
      "Host is up (0.000019s latency).\n",
      "Not shown: 998 closed tcp ports (reset)\n",
      "PORT     STATE SERVICE\n",
      "22/tcp   open  ssh\n",
      "8080/tcp open  http-proxy\n",
      "\n",
      "Nmap done: 256 IP addresses (5 hosts up) scanned in 8.11 seconds\n",
      "[{'ip': '192.168.19.1', 'port': '135', 'service': 'msrpc', 'port_state': 'open'}, {'ip': '192.168.19.1', 'port': '139', 'service': 'netbios-ssn', 'port_state': 'open'}, {'ip': '192.168.19.1', 'port': '445', 'service': 'microsoft-ds', 'port_state': 'open'}, {'ip': '192.168.19.1', 'port': '2179', 'service': 'vmrdp', 'port_state': 'open'}, {'ip': '192.168.19.134', 'port': '21', 'service': 'ftp', 'port_state': 'open'}, {'ip': '192.168.19.134', 'port': '22', 'service': 'ssh', 'port_state': 'open'}, {'ip': '192.168.19.134', 'port': '23', 'service': 'telnet', 'port_state': 'open'}, {'ip': '192.168.19.134', 'port': '25', 'service': 'smtp', 'port_state': 'open'}, {'ip': '192.168.19.134', 'port': '53', 'service': 'domain', 'port_state': 'open'}, {'ip': '192.168.19.134', 'port': '80', 'service': 'http', 'port_state': 'open'}, {'ip': '192.168.19.134', 'port': '111', 'service': 'rpcbind', 'port_state': 'open'}, {'ip': '192.168.19.134', 'port': '139', 'service': 'netbios-ssn', 'port_state': 'open'}, {'ip': '192.168.19.134', 'port': '445', 'service': 'microsoft-ds', 'port_state': 'open'}, {'ip': '192.168.19.134', 'port': '512', 'service': 'exec', 'port_state': 'open'}, {'ip': '192.168.19.134', 'port': '513', 'service': 'login', 'port_state': 'open'}, {'ip': '192.168.19.134', 'port': '514', 'service': 'shell', 'port_state': 'open'}, {'ip': '192.168.19.134', 'port': '1099', 'service': 'rmiregistry', 'port_state': 'open'}, {'ip': '192.168.19.134', 'port': '1524', 'service': 'ingreslock', 'port_state': 'open'}, {'ip': '192.168.19.134', 'port': '2049', 'service': 'nfs', 'port_state': 'open'}, {'ip': '192.168.19.134', 'port': '2121', 'service': 'ccproxy-ftp', 'port_state': 'open'}, {'ip': '192.168.19.134', 'port': '3306', 'service': 'mysql', 'port_state': 'open'}, {'ip': '192.168.19.134', 'port': '5432', 'service': 'postgresql', 'port_state': 'open'}, {'ip': '192.168.19.134', 'port': '5900', 'service': 'vnc', 'port_state': 'open'}, {'ip': '192.168.19.134', 'port': '6000', 'service': 'X11', 'port_state': 'open'}, {'ip': '192.168.19.134', 'port': '6667', 'service': 'irc', 'port_state': 'open'}, {'ip': '192.168.19.134', 'port': '8009', 'service': 'ajp13', 'port_state': 'open'}, {'ip': '192.168.19.133', 'port': '22', 'service': 'ssh', 'port_state': 'open'}, {'ip': '192.168.19.133', 'port': '8080', 'service': 'http-proxy', 'port_state': 'open'}]\n"
     ]
    }
   ],
   "source": [
    "import Nmap\n",
    "Nmap=Nmap.Nmap\n",
    "ip=Nmap.format_ip_card_name('eth0')\n",
    "print(ip)\n",
    "print(Nmap.xml_to_list_scan(ip))"
   ]
  },
  {
   "cell_type": "code",
   "execution_count": null,
   "id": "a69e1a3a-837d-4c04-9dac-fa8caf3003bb",
   "metadata": {},
   "outputs": [],
   "source": []
  }
 ],
 "metadata": {
  "kernelspec": {
   "display_name": "pyproject",
   "language": "python",
   "name": "pyproject"
  },
  "language_info": {
   "codemirror_mode": {
    "name": "ipython",
    "version": 3
   },
   "file_extension": ".py",
   "mimetype": "text/x-python",
   "name": "python",
   "nbconvert_exporter": "python",
   "pygments_lexer": "ipython3",
   "version": "3.13.3"
  }
 },
 "nbformat": 4,
 "nbformat_minor": 5
}
